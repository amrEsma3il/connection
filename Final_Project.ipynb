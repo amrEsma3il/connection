{
 "cells": [
  {
   "cell_type": "markdown",
   "metadata": {
    "id": "FJjnbLG9oOad"
   },
   "source": [
    "# **Import Libraries**"
   ]
  },
  {
   "cell_type": "code",
   "execution_count": 1,
   "metadata": {
    "id": "SC4B6R52Lhtn"
   },
   "outputs": [],
   "source": [
    "# Basic Libraries\n",
    "import numpy as np\n",
    "import pandas as pd\n",
    "import sklearn\n",
    "\n",
    "# Necessary Libraries for Data Preparation\n",
    "import string\n",
    "import nltk\n",
    "\n",
    "from nltk.tokenize import word_tokenize\n",
    "from nltk.corpus import stopwords\n",
    "from nltk.stem import WordNetLemmatizer\n",
    "from nltk.corpus import wordnet\n",
    "\n",
    "from sklearn.utils import shuffle\n",
    "from sklearn.model_selection import train_test_split\n",
    "from sklearn.feature_extraction.text import TfidfVectorizer\n",
    "\n",
    "# Necessary Libraries for ML Models\n",
    "from sklearn.model_selection import GridSearchCV\n",
    "\n",
    "from sklearn.tree import DecisionTreeClassifier\n",
    "from sklearn.ensemble import RandomForestClassifier\n",
    "from sklearn.svm import SVC\n",
    "from sklearn.neighbors import KNeighborsClassifier\n",
    "\n",
    "# Necessary Libraries for Accuracy Measures\n",
    "from sklearn.metrics import accuracy_score\n",
    "from sklearn.metrics import confusion_matrix\n",
    "\n",
    "# Necessary Libraries for Deployment\n",
    "import joblib"
   ]
  },
  {
   "cell_type": "markdown",
   "metadata": {
    "id": "s2bPwDfbpL5U"
   },
   "source": [
    "**Download NLTK resources**"
   ]
  },
  {
   "cell_type": "code",
   "execution_count": 2,
   "metadata": {
    "colab": {
     "base_uri": "https://localhost:8080/"
    },
    "id": "W7IXBKHXpMJj",
    "outputId": "2da041dd-8a88-40da-d731-d4439604e317"
   },
   "outputs": [
    {
     "name": "stderr",
     "output_type": "stream",
     "text": [
      "[nltk_data] Downloading package punkt to\n",
      "[nltk_data]     C:\\Users\\CS\\AppData\\Roaming\\nltk_data...\n",
      "[nltk_data]   Package punkt is already up-to-date!\n",
      "[nltk_data] Downloading package stopwords to\n",
      "[nltk_data]     C:\\Users\\CS\\AppData\\Roaming\\nltk_data...\n",
      "[nltk_data]   Package stopwords is already up-to-date!\n",
      "[nltk_data] Downloading package wordnet to\n",
      "[nltk_data]     C:\\Users\\CS\\AppData\\Roaming\\nltk_data...\n",
      "[nltk_data]   Package wordnet is already up-to-date!\n"
     ]
    },
    {
     "data": {
      "text/plain": [
       "True"
      ]
     },
     "execution_count": 2,
     "metadata": {},
     "output_type": "execute_result"
    }
   ],
   "source": [
    "# download the Punkt tokenizer models\n",
    "nltk.download('punkt')\n",
    "\n",
    "# download a list of common stopwords\n",
    "nltk.download('stopwords')\n",
    "\n",
    "# download the WordNet lexical database\n",
    "nltk.download('wordnet')"
   ]
  },
  {
   "cell_type": "markdown",
   "metadata": {
    "id": "qFg5ZrRHpllT"
   },
   "source": [
    "# **Read the Data**"
   ]
  },
  {
   "cell_type": "code",
   "execution_count": 3,
   "metadata": {
    "id": "sLE5lqF2plIk"
   },
   "outputs": [],
   "source": [
    "data = pd.read_csv('Symptom2Disease.csv')"
   ]
  },
  {
   "cell_type": "markdown",
   "metadata": {
    "id": "sY_8Clt6A9UE"
   },
   "source": [
    "# **Understand and Clean the Data**"
   ]
  },
  {
   "cell_type": "code",
   "execution_count": 4,
   "metadata": {
    "colab": {
     "base_uri": "https://localhost:8080/",
     "height": 424
    },
    "id": "_u7Raf2cBDRh",
    "outputId": "ce527a1f-3926-4205-db85-278519bd6717"
   },
   "outputs": [
    {
     "data": {
      "text/html": [
       "<div>\n",
       "<style scoped>\n",
       "    .dataframe tbody tr th:only-of-type {\n",
       "        vertical-align: middle;\n",
       "    }\n",
       "\n",
       "    .dataframe tbody tr th {\n",
       "        vertical-align: top;\n",
       "    }\n",
       "\n",
       "    .dataframe thead th {\n",
       "        text-align: right;\n",
       "    }\n",
       "</style>\n",
       "<table border=\"1\" class=\"dataframe\">\n",
       "  <thead>\n",
       "    <tr style=\"text-align: right;\">\n",
       "      <th></th>\n",
       "      <th>Unnamed: 0</th>\n",
       "      <th>label</th>\n",
       "      <th>text</th>\n",
       "    </tr>\n",
       "  </thead>\n",
       "  <tbody>\n",
       "    <tr>\n",
       "      <th>0</th>\n",
       "      <td>0</td>\n",
       "      <td>Psoriasis</td>\n",
       "      <td>I have been encountering a skin hasty on my ar...</td>\n",
       "    </tr>\n",
       "    <tr>\n",
       "      <th>1</th>\n",
       "      <td>1</td>\n",
       "      <td>Psoriasis</td>\n",
       "      <td>My skin has been peeling, particularly on my k...</td>\n",
       "    </tr>\n",
       "    <tr>\n",
       "      <th>2</th>\n",
       "      <td>2</td>\n",
       "      <td>Psoriasis</td>\n",
       "      <td>I have been encountering joint torment in my f...</td>\n",
       "    </tr>\n",
       "    <tr>\n",
       "      <th>3</th>\n",
       "      <td>3</td>\n",
       "      <td>Psoriasis</td>\n",
       "      <td>There's a silver like cleaning on my skin, par...</td>\n",
       "    </tr>\n",
       "    <tr>\n",
       "      <th>4</th>\n",
       "      <td>4</td>\n",
       "      <td>Psoriasis</td>\n",
       "      <td>My nails have little marks or pits in them, an...</td>\n",
       "    </tr>\n",
       "    <tr>\n",
       "      <th>...</th>\n",
       "      <td>...</td>\n",
       "      <td>...</td>\n",
       "      <td>...</td>\n",
       "    </tr>\n",
       "    <tr>\n",
       "      <th>3595</th>\n",
       "      <td>3595</td>\n",
       "      <td>diabetes</td>\n",
       "      <td>These strong desires and the need to urinate o...</td>\n",
       "    </tr>\n",
       "    <tr>\n",
       "      <th>3596</th>\n",
       "      <td>3596</td>\n",
       "      <td>diabetes</td>\n",
       "      <td>I have trouble breathing, especially outside. ...</td>\n",
       "    </tr>\n",
       "    <tr>\n",
       "      <th>3597</th>\n",
       "      <td>3597</td>\n",
       "      <td>diabetes</td>\n",
       "      <td>I find it difficult to breathe, especially out...</td>\n",
       "    </tr>\n",
       "    <tr>\n",
       "      <th>3598</th>\n",
       "      <td>3598</td>\n",
       "      <td>diabetes</td>\n",
       "      <td>I constantly sneeze and have a dry cough. My i...</td>\n",
       "    </tr>\n",
       "    <tr>\n",
       "      <th>3599</th>\n",
       "      <td>3599</td>\n",
       "      <td>diabetes</td>\n",
       "      <td>I have a dry cough and sneeze a lot. I have pa...</td>\n",
       "    </tr>\n",
       "  </tbody>\n",
       "</table>\n",
       "<p>3600 rows × 3 columns</p>\n",
       "</div>"
      ],
      "text/plain": [
       "      Unnamed: 0      label                                               text\n",
       "0              0  Psoriasis  I have been encountering a skin hasty on my ar...\n",
       "1              1  Psoriasis  My skin has been peeling, particularly on my k...\n",
       "2              2  Psoriasis  I have been encountering joint torment in my f...\n",
       "3              3  Psoriasis  There's a silver like cleaning on my skin, par...\n",
       "4              4  Psoriasis  My nails have little marks or pits in them, an...\n",
       "...          ...        ...                                                ...\n",
       "3595        3595   diabetes  These strong desires and the need to urinate o...\n",
       "3596        3596   diabetes  I have trouble breathing, especially outside. ...\n",
       "3597        3597   diabetes  I find it difficult to breathe, especially out...\n",
       "3598        3598   diabetes  I constantly sneeze and have a dry cough. My i...\n",
       "3599        3599   diabetes  I have a dry cough and sneeze a lot. I have pa...\n",
       "\n",
       "[3600 rows x 3 columns]"
      ]
     },
     "execution_count": 4,
     "metadata": {},
     "output_type": "execute_result"
    }
   ],
   "source": [
    "data"
   ]
  },
  {
   "cell_type": "code",
   "execution_count": 5,
   "metadata": {
    "colab": {
     "base_uri": "https://localhost:8080/",
     "height": 424
    },
    "id": "sMJyZ72LCI51",
    "outputId": "a4c582f5-749b-4700-bfe7-a496e9115327"
   },
   "outputs": [
    {
     "data": {
      "text/html": [
       "<div>\n",
       "<style scoped>\n",
       "    .dataframe tbody tr th:only-of-type {\n",
       "        vertical-align: middle;\n",
       "    }\n",
       "\n",
       "    .dataframe tbody tr th {\n",
       "        vertical-align: top;\n",
       "    }\n",
       "\n",
       "    .dataframe thead th {\n",
       "        text-align: right;\n",
       "    }\n",
       "</style>\n",
       "<table border=\"1\" class=\"dataframe\">\n",
       "  <thead>\n",
       "    <tr style=\"text-align: right;\">\n",
       "      <th></th>\n",
       "      <th>label</th>\n",
       "      <th>text</th>\n",
       "    </tr>\n",
       "  </thead>\n",
       "  <tbody>\n",
       "    <tr>\n",
       "      <th>0</th>\n",
       "      <td>Psoriasis</td>\n",
       "      <td>I have been encountering a skin hasty on my ar...</td>\n",
       "    </tr>\n",
       "    <tr>\n",
       "      <th>1</th>\n",
       "      <td>Psoriasis</td>\n",
       "      <td>My skin has been peeling, particularly on my k...</td>\n",
       "    </tr>\n",
       "    <tr>\n",
       "      <th>2</th>\n",
       "      <td>Psoriasis</td>\n",
       "      <td>I have been encountering joint torment in my f...</td>\n",
       "    </tr>\n",
       "    <tr>\n",
       "      <th>3</th>\n",
       "      <td>Psoriasis</td>\n",
       "      <td>There's a silver like cleaning on my skin, par...</td>\n",
       "    </tr>\n",
       "    <tr>\n",
       "      <th>4</th>\n",
       "      <td>Psoriasis</td>\n",
       "      <td>My nails have little marks or pits in them, an...</td>\n",
       "    </tr>\n",
       "    <tr>\n",
       "      <th>...</th>\n",
       "      <td>...</td>\n",
       "      <td>...</td>\n",
       "    </tr>\n",
       "    <tr>\n",
       "      <th>3595</th>\n",
       "      <td>diabetes</td>\n",
       "      <td>These strong desires and the need to urinate o...</td>\n",
       "    </tr>\n",
       "    <tr>\n",
       "      <th>3596</th>\n",
       "      <td>diabetes</td>\n",
       "      <td>I have trouble breathing, especially outside. ...</td>\n",
       "    </tr>\n",
       "    <tr>\n",
       "      <th>3597</th>\n",
       "      <td>diabetes</td>\n",
       "      <td>I find it difficult to breathe, especially out...</td>\n",
       "    </tr>\n",
       "    <tr>\n",
       "      <th>3598</th>\n",
       "      <td>diabetes</td>\n",
       "      <td>I constantly sneeze and have a dry cough. My i...</td>\n",
       "    </tr>\n",
       "    <tr>\n",
       "      <th>3599</th>\n",
       "      <td>diabetes</td>\n",
       "      <td>I have a dry cough and sneeze a lot. I have pa...</td>\n",
       "    </tr>\n",
       "  </tbody>\n",
       "</table>\n",
       "<p>3600 rows × 2 columns</p>\n",
       "</div>"
      ],
      "text/plain": [
       "          label                                               text\n",
       "0     Psoriasis  I have been encountering a skin hasty on my ar...\n",
       "1     Psoriasis  My skin has been peeling, particularly on my k...\n",
       "2     Psoriasis  I have been encountering joint torment in my f...\n",
       "3     Psoriasis  There's a silver like cleaning on my skin, par...\n",
       "4     Psoriasis  My nails have little marks or pits in them, an...\n",
       "...         ...                                                ...\n",
       "3595   diabetes  These strong desires and the need to urinate o...\n",
       "3596   diabetes  I have trouble breathing, especially outside. ...\n",
       "3597   diabetes  I find it difficult to breathe, especially out...\n",
       "3598   diabetes  I constantly sneeze and have a dry cough. My i...\n",
       "3599   diabetes  I have a dry cough and sneeze a lot. I have pa...\n",
       "\n",
       "[3600 rows x 2 columns]"
      ]
     },
     "execution_count": 5,
     "metadata": {},
     "output_type": "execute_result"
    }
   ],
   "source": [
    "# Drop the 'Unnamed: 0' column\n",
    "data.drop(columns = [\"Unnamed: 0\"], inplace = True)\n",
    "data"
   ]
  },
  {
   "cell_type": "code",
   "execution_count": 6,
   "metadata": {
    "colab": {
     "base_uri": "https://localhost:8080/"
    },
    "id": "8Bf6JRc6CzR1",
    "outputId": "d02ad402-077c-4969-b9fa-9357dd0b15b3"
   },
   "outputs": [
    {
     "name": "stdout",
     "output_type": "stream",
     "text": [
      "<class 'pandas.core.frame.DataFrame'>\n",
      "RangeIndex: 3600 entries, 0 to 3599\n",
      "Data columns (total 2 columns):\n",
      " #   Column  Non-Null Count  Dtype \n",
      "---  ------  --------------  ----- \n",
      " 0   label   3600 non-null   object\n",
      " 1   text    3600 non-null   object\n",
      "dtypes: object(2)\n",
      "memory usage: 56.4+ KB\n"
     ]
    }
   ],
   "source": [
    "# Concise summary of the DataFrame's structure and content\n",
    "data.info()"
   ]
  },
  {
   "cell_type": "code",
   "execution_count": 7,
   "metadata": {
    "colab": {
     "base_uri": "https://localhost:8080/"
    },
    "id": "wjir04kyNUWQ",
    "outputId": "c8276762-16d2-40b9-f43e-677d20d8addd"
   },
   "outputs": [
    {
     "data": {
      "text/plain": [
       "Index(['label', 'text'], dtype='object')"
      ]
     },
     "execution_count": 7,
     "metadata": {},
     "output_type": "execute_result"
    }
   ],
   "source": [
    "data.columns"
   ]
  },
  {
   "cell_type": "code",
   "execution_count": 8,
   "metadata": {
    "colab": {
     "base_uri": "https://localhost:8080/"
    },
    "id": "l9bY7Bh2C8t8",
    "outputId": "88ffbdf8-eedf-46a3-f77c-14671204d9b1"
   },
   "outputs": [
    {
     "data": {
      "text/plain": [
       "(3600, 2)"
      ]
     },
     "execution_count": 8,
     "metadata": {},
     "output_type": "execute_result"
    }
   ],
   "source": [
    "data.shape"
   ]
  },
  {
   "cell_type": "code",
   "execution_count": 9,
   "metadata": {
    "colab": {
     "base_uri": "https://localhost:8080/"
    },
    "id": "hVTvf9ifFtkm",
    "outputId": "5edddd00-50cf-49a0-a7f6-0f9a34c7a978"
   },
   "outputs": [
    {
     "data": {
      "text/plain": [
       "label      24\n",
       "text     3510\n",
       "dtype: int64"
      ]
     },
     "execution_count": 9,
     "metadata": {},
     "output_type": "execute_result"
    }
   ],
   "source": [
    "# Count the number of unique values in each column\n",
    "data.nunique()"
   ]
  },
  {
   "cell_type": "code",
   "execution_count": 10,
   "metadata": {
    "colab": {
     "base_uri": "https://localhost:8080/"
    },
    "id": "UhpjheAGRXoJ",
    "outputId": "4536c731-c15e-4ac9-dbec-65a64ac7b400"
   },
   "outputs": [
    {
     "data": {
      "text/plain": [
       "3600"
      ]
     },
     "execution_count": 10,
     "metadata": {},
     "output_type": "execute_result"
    }
   ],
   "source": [
    "data.value_counts().sum()"
   ]
  },
  {
   "cell_type": "code",
   "execution_count": 11,
   "metadata": {
    "colab": {
     "base_uri": "https://localhost:8080/"
    },
    "id": "wLzpNw3VGqCP",
    "outputId": "30484b22-2e07-4639-e884-19026aa744ba"
   },
   "outputs": [
    {
     "data": {
      "text/plain": [
       "label    0\n",
       "text     0\n",
       "dtype: int64"
      ]
     },
     "execution_count": 11,
     "metadata": {},
     "output_type": "execute_result"
    }
   ],
   "source": [
    "# Check and Count null values\n",
    "data.isnull().sum()"
   ]
  },
  {
   "cell_type": "code",
   "execution_count": 12,
   "metadata": {
    "colab": {
     "base_uri": "https://localhost:8080/"
    },
    "id": "E05gdAehOU44",
    "outputId": "0b8feea9-3ced-4f24-9688-17dc032e6843"
   },
   "outputs": [
    {
     "data": {
      "text/plain": [
       "90"
      ]
     },
     "execution_count": 12,
     "metadata": {},
     "output_type": "execute_result"
    }
   ],
   "source": [
    "# Check and Count duplicated values\n",
    "data.duplicated().sum()"
   ]
  },
  {
   "cell_type": "code",
   "execution_count": 13,
   "metadata": {
    "colab": {
     "base_uri": "https://localhost:8080/",
     "height": 424
    },
    "id": "vd-kG5yKOxyA",
    "outputId": "5cc32f8a-af04-4e2c-86ab-a0f1ed53816f"
   },
   "outputs": [
    {
     "data": {
      "text/html": [
       "<div>\n",
       "<style scoped>\n",
       "    .dataframe tbody tr th:only-of-type {\n",
       "        vertical-align: middle;\n",
       "    }\n",
       "\n",
       "    .dataframe tbody tr th {\n",
       "        vertical-align: top;\n",
       "    }\n",
       "\n",
       "    .dataframe thead th {\n",
       "        text-align: right;\n",
       "    }\n",
       "</style>\n",
       "<table border=\"1\" class=\"dataframe\">\n",
       "  <thead>\n",
       "    <tr style=\"text-align: right;\">\n",
       "      <th></th>\n",
       "      <th>label</th>\n",
       "      <th>text</th>\n",
       "    </tr>\n",
       "  </thead>\n",
       "  <tbody>\n",
       "    <tr>\n",
       "      <th>0</th>\n",
       "      <td>Psoriasis</td>\n",
       "      <td>I have been encountering a skin hasty on my ar...</td>\n",
       "    </tr>\n",
       "    <tr>\n",
       "      <th>1</th>\n",
       "      <td>Psoriasis</td>\n",
       "      <td>My skin has been peeling, particularly on my k...</td>\n",
       "    </tr>\n",
       "    <tr>\n",
       "      <th>2</th>\n",
       "      <td>Psoriasis</td>\n",
       "      <td>I have been encountering joint torment in my f...</td>\n",
       "    </tr>\n",
       "    <tr>\n",
       "      <th>3</th>\n",
       "      <td>Psoriasis</td>\n",
       "      <td>There's a silver like cleaning on my skin, par...</td>\n",
       "    </tr>\n",
       "    <tr>\n",
       "      <th>4</th>\n",
       "      <td>Psoriasis</td>\n",
       "      <td>My nails have little marks or pits in them, an...</td>\n",
       "    </tr>\n",
       "    <tr>\n",
       "      <th>...</th>\n",
       "      <td>...</td>\n",
       "      <td>...</td>\n",
       "    </tr>\n",
       "    <tr>\n",
       "      <th>3595</th>\n",
       "      <td>diabetes</td>\n",
       "      <td>These strong desires and the need to urinate o...</td>\n",
       "    </tr>\n",
       "    <tr>\n",
       "      <th>3596</th>\n",
       "      <td>diabetes</td>\n",
       "      <td>I have trouble breathing, especially outside. ...</td>\n",
       "    </tr>\n",
       "    <tr>\n",
       "      <th>3597</th>\n",
       "      <td>diabetes</td>\n",
       "      <td>I find it difficult to breathe, especially out...</td>\n",
       "    </tr>\n",
       "    <tr>\n",
       "      <th>3598</th>\n",
       "      <td>diabetes</td>\n",
       "      <td>I constantly sneeze and have a dry cough. My i...</td>\n",
       "    </tr>\n",
       "    <tr>\n",
       "      <th>3599</th>\n",
       "      <td>diabetes</td>\n",
       "      <td>I have a dry cough and sneeze a lot. I have pa...</td>\n",
       "    </tr>\n",
       "  </tbody>\n",
       "</table>\n",
       "<p>3510 rows × 2 columns</p>\n",
       "</div>"
      ],
      "text/plain": [
       "          label                                               text\n",
       "0     Psoriasis  I have been encountering a skin hasty on my ar...\n",
       "1     Psoriasis  My skin has been peeling, particularly on my k...\n",
       "2     Psoriasis  I have been encountering joint torment in my f...\n",
       "3     Psoriasis  There's a silver like cleaning on my skin, par...\n",
       "4     Psoriasis  My nails have little marks or pits in them, an...\n",
       "...         ...                                                ...\n",
       "3595   diabetes  These strong desires and the need to urinate o...\n",
       "3596   diabetes  I have trouble breathing, especially outside. ...\n",
       "3597   diabetes  I find it difficult to breathe, especially out...\n",
       "3598   diabetes  I constantly sneeze and have a dry cough. My i...\n",
       "3599   diabetes  I have a dry cough and sneeze a lot. I have pa...\n",
       "\n",
       "[3510 rows x 2 columns]"
      ]
     },
     "execution_count": 13,
     "metadata": {},
     "output_type": "execute_result"
    }
   ],
   "source": [
    "# Drop duplicated values\n",
    "data.drop_duplicates(inplace = True)\n",
    "data"
   ]
  },
  {
   "cell_type": "markdown",
   "metadata": {
    "id": "Eamf97tPS9PR"
   },
   "source": [
    "# **Text Preprocessing--->(NLP)**"
   ]
  },
  {
   "cell_type": "code",
   "execution_count": 14,
   "metadata": {
    "id": "mVraoaW2DEZ9"
   },
   "outputs": [],
   "source": [
    "def lowercase_text(text):\n",
    "    return text.lower()\n",
    "\n",
    "def remove_punctuation(text):\n",
    "    translator = str.maketrans('', '', string.punctuation)\n",
    "    text_without_punct = text.translate(translator).strip()\n",
    "    return text_without_punct\n",
    "\n",
    "def tokenize_text(text):\n",
    "    tokens = word_tokenize(text)\n",
    "    return tokens\n",
    "\n",
    "def remove_stopwords(tokens):\n",
    "    stop_words = set(stopwords.words('english'))\n",
    "    filtered_tokens = [token for token in tokens if token.isalpha() and token not in stop_words]\n",
    "    return filtered_tokens\n",
    "\n",
    "def lemmatize_text(tokens):\n",
    "    lemmatizer = WordNetLemmatizer()\n",
    "    lemmatized_tokens = [lemmatizer.lemmatize(token) for token in tokens]\n",
    "    return lemmatized_tokens"
   ]
  },
  {
   "cell_type": "code",
   "execution_count": 15,
   "metadata": {
    "id": "B7Ld2Fe_M_Pp"
   },
   "outputs": [],
   "source": [
    "# Preprocessing Container function\n",
    "\n",
    "def preprocess_text(text):\n",
    "    text = lowercase_text(text)\n",
    "    text = remove_punctuation(text)\n",
    "    tokens = tokenize_text(text)\n",
    "    tokens = remove_stopwords(tokens)\n",
    "    tokens = lemmatize_text(tokens)\n",
    "    preprocessed_text = ' '.join(tokens)\n",
    "    return preprocessed_text"
   ]
  },
  {
   "cell_type": "code",
   "execution_count": 16,
   "metadata": {
    "id": "voBMVVOBM_I2"
   },
   "outputs": [],
   "source": [
    "# Apply Preprocessing Container function to symptoms\n",
    "\n",
    "data['text'] = data['text'].apply(preprocess_text)"
   ]
  },
  {
   "cell_type": "code",
   "execution_count": 17,
   "metadata": {},
   "outputs": [
    {
     "name": "stdout",
     "output_type": "stream",
     "text": [
      "Number of unique dictionary vocabs: 2275\n"
     ]
    }
   ],
   "source": [
    "# Extract and Count unique dictionary vocabs\n",
    "\n",
    "def count_unique_vocab(count):\n",
    "    unique_vocabularies = set()\n",
    "    for text in count:\n",
    "        words = text.split()\n",
    "        for word in words:\n",
    "            unique_vocabularies.add(word)\n",
    "    return len(unique_vocabularies)\n",
    "\n",
    "# Count unique dictionary vocabs\n",
    "num_unique_vocabs = count_unique_vocab(data['text'])\n",
    "\n",
    "print(\"Number of unique dictionary vocabs:\", num_unique_vocabs)"
   ]
  },
  {
   "cell_type": "markdown",
   "metadata": {
    "id": "WQCc3uE4wCU_"
   },
   "source": [
    "# **Select the features (X) as 'text' column and target (y) as 'label' column**"
   ]
  },
  {
   "cell_type": "code",
   "execution_count": 18,
   "metadata": {
    "id": "TQpYX-HOdt9S"
   },
   "outputs": [],
   "source": [
    "X = data['text']\n",
    "y = data['label']"
   ]
  },
  {
   "cell_type": "code",
   "execution_count": 19,
   "metadata": {
    "colab": {
     "base_uri": "https://localhost:8080/"
    },
    "id": "g9AHRdCawSDG",
    "outputId": "6e31016b-8f99-456e-de1f-c003fadb36af"
   },
   "outputs": [
    {
     "data": {
      "text/plain": [
       "0       encountering skin hasty arm leg middle past we...\n",
       "1       skin peeling particularly knee elbow scalp pee...\n",
       "2       encountering joint torment finger wrist knee t...\n",
       "3       there silver like cleaning skin particularly l...\n",
       "4       nail little mark pit frequently feel incendiar...\n",
       "                              ...                        \n",
       "3595    strong desire need urinate occur daily basis o...\n",
       "3596    trouble breathing especially outside start fee...\n",
       "3597    find difficult breathe especially outside heat...\n",
       "3598    constantly sneeze dry cough infection dont see...\n",
       "3599    dry cough sneeze lot palpitation infection don...\n",
       "Name: text, Length: 3510, dtype: object"
      ]
     },
     "execution_count": 19,
     "metadata": {},
     "output_type": "execute_result"
    }
   ],
   "source": [
    "X"
   ]
  },
  {
   "cell_type": "code",
   "execution_count": 20,
   "metadata": {
    "colab": {
     "base_uri": "https://localhost:8080/"
    },
    "id": "loZbr-m5wST3",
    "outputId": "49103067-5c7d-46e2-9a1b-5d1c6f2d8bbe"
   },
   "outputs": [
    {
     "data": {
      "text/plain": [
       "0       Psoriasis\n",
       "1       Psoriasis\n",
       "2       Psoriasis\n",
       "3       Psoriasis\n",
       "4       Psoriasis\n",
       "          ...    \n",
       "3595     diabetes\n",
       "3596     diabetes\n",
       "3597     diabetes\n",
       "3598     diabetes\n",
       "3599     diabetes\n",
       "Name: label, Length: 3510, dtype: object"
      ]
     },
     "execution_count": 20,
     "metadata": {},
     "output_type": "execute_result"
    }
   ],
   "source": [
    "y"
   ]
  },
  {
   "cell_type": "code",
   "execution_count": 21,
   "metadata": {
    "colab": {
     "base_uri": "https://localhost:8080/",
     "height": 424
    },
    "id": "lYnvqswPaKlB",
    "outputId": "a19f03ae-bdbc-45b7-b97b-cc2cdab336f8",
    "scrolled": false
   },
   "outputs": [
    {
     "data": {
      "text/html": [
       "<div>\n",
       "<style scoped>\n",
       "    .dataframe tbody tr th:only-of-type {\n",
       "        vertical-align: middle;\n",
       "    }\n",
       "\n",
       "    .dataframe tbody tr th {\n",
       "        vertical-align: top;\n",
       "    }\n",
       "\n",
       "    .dataframe thead th {\n",
       "        text-align: right;\n",
       "    }\n",
       "</style>\n",
       "<table border=\"1\" class=\"dataframe\">\n",
       "  <thead>\n",
       "    <tr style=\"text-align: right;\">\n",
       "      <th></th>\n",
       "      <th>label</th>\n",
       "      <th>text</th>\n",
       "    </tr>\n",
       "  </thead>\n",
       "  <tbody>\n",
       "    <tr>\n",
       "      <th>3282</th>\n",
       "      <td>drug reaction</td>\n",
       "      <td>monthly cycle changed ive unexpected vaginal d...</td>\n",
       "    </tr>\n",
       "    <tr>\n",
       "      <th>315</th>\n",
       "      <td>Typhoid</td>\n",
       "      <td>ive dealing substantial bloating constipation ...</td>\n",
       "    </tr>\n",
       "    <tr>\n",
       "      <th>2756</th>\n",
       "      <td>urinary tract infection</td>\n",
       "      <td>getting blood pee sometimes get nauseous peein...</td>\n",
       "    </tr>\n",
       "    <tr>\n",
       "      <th>603</th>\n",
       "      <td>Impetigo</td>\n",
       "      <td>rash around nose expansive ruddy bruise taken ...</td>\n",
       "    </tr>\n",
       "    <tr>\n",
       "      <th>879</th>\n",
       "      <td>Dengue</td>\n",
       "      <td>ive headache muscular ache aching muscle get w...</td>\n",
       "    </tr>\n",
       "    <tr>\n",
       "      <th>...</th>\n",
       "      <td>...</td>\n",
       "      <td>...</td>\n",
       "    </tr>\n",
       "    <tr>\n",
       "      <th>1136</th>\n",
       "      <td>Common Cold</td>\n",
       "      <td>sinus feel stuffy eye quite red simply lack en...</td>\n",
       "    </tr>\n",
       "    <tr>\n",
       "      <th>1302</th>\n",
       "      <td>Pneumonia</td>\n",
       "      <td>im trouble breathing quite uneasy throat fille...</td>\n",
       "    </tr>\n",
       "    <tr>\n",
       "      <th>865</th>\n",
       "      <td>Dengue</td>\n",
       "      <td>day quite challenging due significant joint pa...</td>\n",
       "    </tr>\n",
       "    <tr>\n",
       "      <th>3597</th>\n",
       "      <td>diabetes</td>\n",
       "      <td>find difficult breathe especially outside heat...</td>\n",
       "    </tr>\n",
       "    <tr>\n",
       "      <th>3264</th>\n",
       "      <td>drug reaction</td>\n",
       "      <td>terrible mental clarity find difficult stay fo...</td>\n",
       "    </tr>\n",
       "  </tbody>\n",
       "</table>\n",
       "<p>3510 rows × 2 columns</p>\n",
       "</div>"
      ],
      "text/plain": [
       "                        label  \\\n",
       "3282            drug reaction   \n",
       "315                   Typhoid   \n",
       "2756  urinary tract infection   \n",
       "603                  Impetigo   \n",
       "879                    Dengue   \n",
       "...                       ...   \n",
       "1136              Common Cold   \n",
       "1302                Pneumonia   \n",
       "865                    Dengue   \n",
       "3597                 diabetes   \n",
       "3264            drug reaction   \n",
       "\n",
       "                                                   text  \n",
       "3282  monthly cycle changed ive unexpected vaginal d...  \n",
       "315   ive dealing substantial bloating constipation ...  \n",
       "2756  getting blood pee sometimes get nauseous peein...  \n",
       "603   rash around nose expansive ruddy bruise taken ...  \n",
       "879   ive headache muscular ache aching muscle get w...  \n",
       "...                                                 ...  \n",
       "1136  sinus feel stuffy eye quite red simply lack en...  \n",
       "1302  im trouble breathing quite uneasy throat fille...  \n",
       "865   day quite challenging due significant joint pa...  \n",
       "3597  find difficult breathe especially outside heat...  \n",
       "3264  terrible mental clarity find difficult stay fo...  \n",
       "\n",
       "[3510 rows x 2 columns]"
      ]
     },
     "execution_count": 21,
     "metadata": {},
     "output_type": "execute_result"
    }
   ],
   "source": [
    "# The 'shuffle' function is used to randomly Shuffle/Rearrange the elements of a dataset\n",
    "from sklearn.utils import shuffle\n",
    "data = shuffle(data, random_state = 42)\n",
    "data"
   ]
  },
  {
   "cell_type": "code",
   "execution_count": 22,
   "metadata": {
    "colab": {
     "base_uri": "https://localhost:8080/",
     "height": 175
    },
    "id": "YPJYkVEEwUH-",
    "outputId": "6020d949-daff-4e9f-93e4-7a5ad1ab131d",
    "scrolled": true
   },
   "outputs": [
    {
     "data": {
      "text/html": [
       "<div>\n",
       "<style scoped>\n",
       "    .dataframe tbody tr th:only-of-type {\n",
       "        vertical-align: middle;\n",
       "    }\n",
       "\n",
       "    .dataframe tbody tr th {\n",
       "        vertical-align: top;\n",
       "    }\n",
       "\n",
       "    .dataframe thead th {\n",
       "        text-align: right;\n",
       "    }\n",
       "</style>\n",
       "<table border=\"1\" class=\"dataframe\">\n",
       "  <thead>\n",
       "    <tr style=\"text-align: right;\">\n",
       "      <th></th>\n",
       "      <th>label</th>\n",
       "      <th>text</th>\n",
       "    </tr>\n",
       "  </thead>\n",
       "  <tbody>\n",
       "    <tr>\n",
       "      <th>count</th>\n",
       "      <td>3510</td>\n",
       "      <td>3510</td>\n",
       "    </tr>\n",
       "    <tr>\n",
       "      <th>unique</th>\n",
       "      <td>24</td>\n",
       "      <td>3508</td>\n",
       "    </tr>\n",
       "    <tr>\n",
       "      <th>top</th>\n",
       "      <td>drug reaction</td>\n",
       "      <td>awoke morning see horrible rash skin several b...</td>\n",
       "    </tr>\n",
       "    <tr>\n",
       "      <th>freq</th>\n",
       "      <td>150</td>\n",
       "      <td>2</td>\n",
       "    </tr>\n",
       "  </tbody>\n",
       "</table>\n",
       "</div>"
      ],
      "text/plain": [
       "                label                                               text\n",
       "count            3510                                               3510\n",
       "unique             24                                               3508\n",
       "top     drug reaction  awoke morning see horrible rash skin several b...\n",
       "freq              150                                                  2"
      ]
     },
     "execution_count": 22,
     "metadata": {},
     "output_type": "execute_result"
    }
   ],
   "source": [
    "# Charactieristics of the data\n",
    "info = data.describe().round()\n",
    "info"
   ]
  },
  {
   "cell_type": "markdown",
   "metadata": {
    "id": "dt65kAvXx4cX"
   },
   "source": [
    "# **Splitting the Dataset into Train set and Test set**"
   ]
  },
  {
   "cell_type": "code",
   "execution_count": 23,
   "metadata": {
    "id": "2-Z9elZsq0Tg"
   },
   "outputs": [],
   "source": [
    "from sklearn.model_selection import train_test_split\n",
    "X_train, X_test, y_train, y_test = train_test_split(X, y, test_size = 0.25, random_state = 42)"
   ]
  },
  {
   "cell_type": "markdown",
   "metadata": {
    "id": "dXArmfTU2sJo"
   },
   "source": [
    "# **Text Feature Extraction**"
   ]
  },
  {
   "cell_type": "code",
   "execution_count": 24,
   "metadata": {
    "id": "nTptkkBHVBtR"
   },
   "outputs": [],
   "source": [
    "# Text feature extraction using TF-IDF vectorizer to transform text data\n",
    "tfidf_vectorizer = TfidfVectorizer(max_features=2400)\n",
    "\n",
    "# Transforming training and testing data\n",
    "X_train = tfidf_vectorizer.fit_transform(X_train).toarray()\n",
    "X_test = tfidf_vectorizer.transform(X_test).toarray()"
   ]
  },
  {
   "cell_type": "code",
   "execution_count": 25,
   "metadata": {},
   "outputs": [],
   "source": [
    "def tfidf_vectorize_text(text_data, max_features=2400):\n",
    "    vectorizer = TfidfVectorizer(max_features=max_features)\n",
    "    tfidf_matrix = vectorizer.fit_transform(text_data)\n",
    "    return tfidf_matrix"
   ]
  },
  {
   "cell_type": "markdown",
   "metadata": {
    "id": "dSaxInYhu249"
   },
   "source": [
    "\n",
    "\n",
    "---\n",
    "\n"
   ]
  },
  {
   "cell_type": "markdown",
   "metadata": {
    "id": "QHAv_pk-q8Fp"
   },
   "source": [
    "###############################################\n",
    "# ***Machine Learning Models***\n",
    "\n",
    "###############################################"
   ]
  },
  {
   "cell_type": "markdown",
   "metadata": {
    "id": "pCRoSxkRwrYi"
   },
   "source": [
    "# **Decision Tree Classifier**\n"
   ]
  },
  {
   "cell_type": "markdown",
   "metadata": {
    "id": "Vng6Jt7Kl0hW"
   },
   "source": [
    "## **Applying Grid Search to find the best model version and the best hyperparameters**"
   ]
  },
  {
   "cell_type": "code",
   "execution_count": null,
   "metadata": {
    "colab": {
     "base_uri": "https://localhost:8080/"
    },
    "id": "-cISgb9aVrlr",
    "outputId": "013caffe-0cd3-477d-bf76-d9e0817184b3"
   },
   "outputs": [
    {
     "name": "stdout",
     "output_type": "stream",
     "text": [
      "Best Hyperparameters: {'criterion': 'gini', 'max_depth': None, 'max_features': None, 'min_samples_leaf': 1, 'min_samples_split': 10}\n",
      "DecisionTreeClassifier(min_samples_split=10, random_state=42)\n",
      "Best Accuracy: 87.39 %\n"
     ]
    }
   ],
   "source": [
    "from sklearn.tree import DecisionTreeClassifier\n",
    "from sklearn.model_selection import GridSearchCV\n",
    "\n",
    "# Create a Decision Tree Classifier object\n",
    "dt_classifier = DecisionTreeClassifier(random_state = 42)\n",
    "\n",
    "# Define the hyperparameters and their possible values to search\n",
    "parameters = {\n",
    "    'criterion': ['gini', 'entropy'],\n",
    "    'max_depth': [None, 10, 20, 30],\n",
    "    'min_samples_split': [2, 5, 10],\n",
    "    'min_samples_leaf': [1, 2, 4],\n",
    "    'max_features' : ['sqrt', 'log2', None]\n",
    "}\n",
    "\n",
    "# Create the Grid Search object\n",
    "grid_search = GridSearchCV(estimator = dt_classifier,\n",
    "                           param_grid = parameters,\n",
    "                           cv = 5,\n",
    "                           scoring = 'accuracy',\n",
    "                           n_jobs = -1)\n",
    "\n",
    "# Fit the Grid Search to the train data\n",
    "grid_search.fit(X_train, y_train)\n",
    "\n",
    "# Get the best hyperparameters found\n",
    "best_hyperparameters = grid_search.best_params_\n",
    "print(\"Best Hyperparameters:\", best_hyperparameters)\n",
    "\n",
    "# Get the best model version\n",
    "best_dt_classifier = grid_search.best_estimator_\n",
    "print(best_dt_classifier)\n",
    "\n",
    "# Print the best accuracy found\n",
    "best_accuracy = grid_search.best_score_\n",
    "print(f'Best Accuracy: {best_accuracy*100:.2f} %')\n"
   ]
  },
  {
   "cell_type": "markdown",
   "metadata": {
    "id": "pAl8LtxZmAcO"
   },
   "source": [
    "## **Model Evaluation**"
   ]
  },
  {
   "cell_type": "code",
   "execution_count": null,
   "metadata": {
    "colab": {
     "base_uri": "https://localhost:8080/"
    },
    "id": "9eKpuvVhw_DP",
    "outputId": "dff7a52c-c62e-4a0c-8dbb-f561e626c9aa"
   },
   "outputs": [
    {
     "name": "stdout",
     "output_type": "stream",
     "text": [
      "Training Score: 0.98 %\n",
      "Testing Score: 0.89 %\n"
     ]
    }
   ],
   "source": [
    "# Calculate and Compare the Score of train data and test data\n",
    "\n",
    "train_score = best_dt_classifier.score(X_train, y_train)\n",
    "test_score = best_dt_classifier.score(X_test, y_test)\n",
    "\n",
    "# Print the scores\n",
    "print(f'Training Score: {train_score*100:.2f} %')\n",
    "print(f'Testing Score: {test_score*100:.2f} %')\n"
   ]
  },
  {
   "cell_type": "code",
   "execution_count": null,
   "metadata": {
    "id": "E_j4V1Gsw_Ar"
   },
   "outputs": [],
   "source": [
    "# Make Predictions on the train data and test data\n",
    "\n",
    "train_predictions = best_dt_classifier.predict(X_train)\n",
    "test_predictions = best_dt_classifier.predict(X_test)"
   ]
  },
  {
   "cell_type": "code",
   "execution_count": null,
   "metadata": {
    "colab": {
     "base_uri": "https://localhost:8080/"
    },
    "id": "HVt2rMYd_9X1",
    "outputId": "774192c1-a99f-427c-f10d-ddd7eaab62c2"
   },
   "outputs": [
    {
     "name": "stdout",
     "output_type": "stream",
     "text": [
      "Training Accuracy: 0.98 %\n",
      "Testing Accuracy: 0.89 %\n"
     ]
    }
   ],
   "source": [
    "# Calculate and Compare the Accuracy for training and testing data\n",
    "from sklearn.metrics import accuracy_score\n",
    "\n",
    "train_accuracy = accuracy_score(y_train, train_predictions)\n",
    "test_accuracy = accuracy_score(y_test, test_predictions)\n",
    "\n",
    "# Print the accuracies\n",
    "print(f'Training Accuracy: {train_accuracy*100:.2f} %')\n",
    "print(f'Testing Accuracy: {test_accuracy*100:.2f} %')\n"
   ]
  },
  {
   "cell_type": "code",
   "execution_count": null,
   "metadata": {
    "colab": {
     "base_uri": "https://localhost:8080/"
    },
    "id": "aPkW0YN2w--C",
    "outputId": "74125221-2eb7-49e5-8cb6-112b7b68265a"
   },
   "outputs": [
    {
     "name": "stdout",
     "output_type": "stream",
     "text": [
      "[[36  0  0  0  0  0  0  0  0  0  0  0  0  0  0  0  0  0  0  0  0  0  0  0]\n",
      " [ 0 39  0  0  0  0  0  0  0  0  0  0  0  0  0  0  0  0  0  0  0  0  0  0]\n",
      " [ 0  0 29  0  1  0  0  0  0  0  0  0  0  0  0  0  0  0  0  0  1  0  0  0]\n",
      " [ 0  0  0 34  1  0  1  0  0  0  0  0  0  0  0  0  0  0  0  0  0  0  0  0]\n",
      " [ 0  0  0  0 25  0  6  0  1  0  2  0  0  0  0  2  1  0  0  4  0  0  0  0]\n",
      " [ 0  0  0  0  0 33  0  0  0  0  0  0  0  0  3  1  0  0  1  0  0  0  0  0]\n",
      " [ 0  1  0  2  8  0 26  0  0  0  0  0  1  1  0  0  0  0  2  1  0  1  0  0]\n",
      " [ 0  0  0  0  0  0  1 35  0  0  0  0  0  0  0  0  0  0  0  0  0  0  0  2]\n",
      " [ 0  0  0  0  0  0  1  0 38  0  0  0  0  0  0  1  0  0  0  0  0  0  0  0]\n",
      " [ 0  0  0  0  0  0  0  0  0 29  0  0  0  0  0  0  1  0  0  0  2  0  0  0]\n",
      " [ 0  0  0  0  2  0  0  0  0  0 32  0  0  0  0  0  0  0  0  0  0  0  0  0]\n",
      " [ 0  0  0  0  0  0  0  0  0  0  0 33  0  0  0  0  0  0  0  0  0  0  0  1]\n",
      " [ 0  0  0  0  0  0  2  0  0  0  0  0 29  0  0  0  0  0  0  0  0  0  0  1]\n",
      " [ 0  0  0  0  2  0  0  0  0  0  0  0  0 29  0  0  0  0  0  0  0  0  0  0]\n",
      " [ 0  0  0  0  0  0  1  0  0  0  0  0  0  0 25  0  0  0  0  0  0  0  0  0]\n",
      " [ 0  0  0  0  3  0  2  0  2  0  2  0  0  0  0 31  0  0  0  1  0  0  0  0]\n",
      " [ 0  0  0  0  1  0  0  0  0  0  0  0  0  0  0  0 32  0  0  1  0  1  2  1]\n",
      " [ 0  0  0  0  0  0  0  0  1  0  0  0  0  0  0  0  0 56  0  0  0  0  0  0]\n",
      " [ 1  0  1  0  0  0  0  0  0  0  0  0  0  0  0  0  0  0 35  0  0  2  0  0]\n",
      " [ 0  0  0  0  0  1  0  0  0  0  0  0  0  2  0  0  0  0  0 31  0  0  0  0]\n",
      " [ 0  0  0  0  0  0  1  0  0  0  0  0  1  0  0  1  0  0  0  1 32  0  0  0]\n",
      " [ 0  0  0  0  0  0  0  0  0  0  0  0  0  0  0  0  1  0  0  0  0 31  2  0]\n",
      " [ 0  0  0  0  0  0  0  0  0  0  0  0  0  0  0  0  2  1  0  1  0  0 28  0]\n",
      " [ 0  0  0  0  0  0  1  0  0  0  0  0  0  0  0  1  1  0  0  1  0  0  0 32]]\n"
     ]
    }
   ],
   "source": [
    "# Make the Confusion Matrix\n",
    "from sklearn.metrics import confusion_matrix\n",
    "\n",
    "cm_1 = confusion_matrix(y_test, test_predictions)\n",
    "\n",
    "# Print the Confusion Matrix\n",
    "print(cm_1)"
   ]
  },
  {
   "cell_type": "markdown",
   "metadata": {
    "id": "c9HUxISYmQu-"
   },
   "source": [
    "## **Model Validation**"
   ]
  },
  {
   "cell_type": "code",
   "execution_count": null,
   "metadata": {
    "colab": {
     "base_uri": "https://localhost:8080/"
    },
    "id": "gaPf3TwOw-7D",
    "outputId": "2923e9e4-4153-406c-b995-c61e28f61280"
   },
   "outputs": [
    {
     "name": "stdout",
     "output_type": "stream",
     "text": [
      "The abdominal pain has been coming and going, and it's been really unpleasant. It's been accompanied by constipation and vomiting. I feel really concerned about my health.\n",
      "abdominal pain coming going really unpleasant accompanied constipation vomiting feel really concerned health\n",
      "[[0.        ]\n",
      " [0.30318867]\n",
      " [0.        ]\n",
      " ...\n",
      " [0.        ]\n",
      " [0.        ]\n",
      " [0.        ]]\n",
      "['Typhoid']\n"
     ]
    }
   ],
   "source": [
    "# Validation Test #\n",
    "\n",
    "# text_before = \"The skin around my mouth, nose, and eyes is ruddy and kindled. It is regularly bothersome and awkward. There's a recognizable aggravation in my nails.\"\n",
    "\n",
    "text_before = \"The abdominal pain has been coming and going, and it's been really unpleasant. It's been accompanied by constipation and vomiting. I feel really concerned about my health.\"\n",
    "\n",
    "# Cleaning\n",
    "text_after = preprocess_text(text_before)\n",
    "\n",
    "print(text_before)\n",
    "print(text_after)\n",
    "\n",
    "# Vectorization\n",
    "tfidf_vectorizer\n",
    "\n",
    "text_after = tfidf_vectorizer.transform([text_after]).toarray()\n",
    "\n",
    "print(text_after.reshape(-1,1))\n",
    "\n",
    "# Prediction\n",
    "test_predictions = best_dt_classifier.predict(text_after)\n",
    "\n",
    "print(test_predictions)"
   ]
  },
  {
   "cell_type": "markdown",
   "metadata": {
    "id": "1YbBX7jwoS4K"
   },
   "source": [
    "# **Random Forest Classifier**\n",
    "\n",
    "Random Forest is an ensemble learning algorithm,\n",
    "It works by constructing multiple decision trees."
   ]
  },
  {
   "cell_type": "markdown",
   "metadata": {
    "id": "EaLWUeEoQ907"
   },
   "source": [
    "## **Applying Grid Search to find the best model version and the best hyperparameters**"
   ]
  },
  {
   "cell_type": "code",
   "execution_count": null,
   "metadata": {
    "id": "8EJgNQnFHtkm",
    "outputId": "dee22c28-0805-48ff-930f-8ba83aaf69d7",
    "scrolled": true
   },
   "outputs": [
    {
     "name": "stdout",
     "output_type": "stream",
     "text": [
      "Best Hyperparameters: {'criterion': 'entropy', 'max_depth': None, 'max_features': 'log2', 'min_samples_leaf': 1, 'min_samples_split': 5, 'n_estimators': 100}\n",
      "RandomForestClassifier(criterion='entropy', max_features='log2',\n",
      "                       min_samples_split=5, random_state=42)\n",
      "Best Accuracy: 97.99 %\n"
     ]
    }
   ],
   "source": [
    "from sklearn.ensemble import RandomForestClassifier\n",
    "from sklearn.model_selection import GridSearchCV\n",
    "\n",
    "# Create a Random Forest Classifier object\n",
    "rf_classifier = RandomForestClassifier(random_state = 42)\n",
    "\n",
    "# Define the hyperparameters and their possible values to search\n",
    "parameters = {\n",
    "    'n_estimators': [10, 50, 100],\n",
    "    'criterion': ['gini', 'entropy'],\n",
    "    'max_depth': [None, 10, 20, 30],\n",
    "    'min_samples_split': [2, 5, 10],\n",
    "    'min_samples_leaf': [1, 2, 4],\n",
    "    'max_features' : ['sqrt', 'log2', None]\n",
    "}\n",
    "\n",
    "# Create the Grid Search object\n",
    "grid_search = GridSearchCV(estimator = rf_classifier,\n",
    "                           param_grid = parameters,\n",
    "                           cv = 5,\n",
    "                           scoring = 'accuracy',\n",
    "                           n_jobs = -1)\n",
    "\n",
    "# Fit the Grid Search to the train data\n",
    "grid_search.fit(X_train, y_train)\n",
    "\n",
    "# Get the best hyperparameters found\n",
    "best_hyperparameters = grid_search.best_params_\n",
    "print(\"Best Hyperparameters:\", best_hyperparameters)\n",
    "\n",
    "# Get the best model version\n",
    "best_rf_classifier = grid_search.best_estimator_\n",
    "print(best_rf_classifier)\n",
    "\n",
    "# Get the best accuracy found\n",
    "best_accuracy = grid_search.best_score_\n",
    "print(f'Best Accuracy: {best_accuracy*100:.2f} %')\n"
   ]
  },
  {
   "cell_type": "markdown",
   "metadata": {
    "id": "JS_uN5jYgFCC"
   },
   "source": [
    "## **Model Evaluation**"
   ]
  },
  {
   "cell_type": "code",
   "execution_count": null,
   "metadata": {
    "id": "PMW_bzlVHsFm",
    "outputId": "f2ae240a-1367-4dbd-eae4-798291406ac4"
   },
   "outputs": [
    {
     "name": "stdout",
     "output_type": "stream",
     "text": [
      "Training Score: 1.00 %\n",
      "Testing Score: 0.98 %\n"
     ]
    }
   ],
   "source": [
    "# Calculate and Compare the Score of train data and test data\n",
    "\n",
    "train_score = best_rf_classifier.score(X_train, y_train)\n",
    "test_score = best_rf_classifier.score(X_test, y_test)\n",
    "\n",
    "# Print the scores\n",
    "print(f'Training Score: {train_score*100:.2f} %')\n",
    "print(f'Testing Score: {test_score*100:.2f} %')\n"
   ]
  },
  {
   "cell_type": "code",
   "execution_count": null,
   "metadata": {
    "id": "jbAkvSazsXMO"
   },
   "outputs": [],
   "source": [
    "# Make Predictions on the train data and test data\n",
    "\n",
    "train_predictions = best_rf_classifier.predict(X_train)\n",
    "test_predictions = best_rf_classifier.predict(X_test)"
   ]
  },
  {
   "cell_type": "code",
   "execution_count": null,
   "metadata": {
    "colab": {
     "base_uri": "https://localhost:8080/"
    },
    "id": "GZZVDqdfDCBk",
    "outputId": "bb3548f6-bf64-495c-e2fd-324a423addd0"
   },
   "outputs": [
    {
     "name": "stdout",
     "output_type": "stream",
     "text": [
      "Training Accuracy: 1.00 %\n",
      "Testing Accuracy: 0.98 %\n"
     ]
    }
   ],
   "source": [
    "# Calculate and Compare the Accuracy for training and testing data\n",
    "from sklearn.metrics import accuracy_score\n",
    "\n",
    "train_accuracy = accuracy_score(y_train, train_predictions)\n",
    "test_accuracy = accuracy_score(y_test, test_predictions)\n",
    "\n",
    "# Print the accuracies\n",
    "print(f'Training Accuracy: {train_accuracy*100:.2f} %')\n",
    "print(f'Testing Accuracy: {test_accuracy*100:.2f} %')\n"
   ]
  },
  {
   "cell_type": "code",
   "execution_count": null,
   "metadata": {
    "colab": {
     "base_uri": "https://localhost:8080/"
    },
    "id": "GaDUVRJ4s0hw",
    "outputId": "65f1a906-fd0d-457f-abf9-5a2486c0ece0"
   },
   "outputs": [
    {
     "name": "stdout",
     "output_type": "stream",
     "text": [
      "[[36  0  0  0  0  0  0  0  0  0  0  0  0  0  0  0  0  0  0  0  0  0  0  0]\n",
      " [ 0 39  0  0  0  0  0  0  0  0  0  0  0  0  0  0  0  0  0  0  0  0  0  0]\n",
      " [ 0  0 31  0  0  0  0  0  0  0  0  0  0  0  0  0  0  0  0  0  0  0  0  0]\n",
      " [ 0  0  0 36  0  0  0  0  0  0  0  0  0  0  0  0  0  0  0  0  0  0  0  0]\n",
      " [ 0  0  0  0 33  0  3  0  0  0  2  0  0  0  0  2  1  0  0  0  0  0  0  0]\n",
      " [ 0  0  0  0  0 38  0  0  0  0  0  0  0  0  0  0  0  0  0  0  0  0  0  0]\n",
      " [ 0  0  0  1  2  0 40  0  0  0  0  0  0  0  0  0  0  0  0  0  0  0  0  0]\n",
      " [ 0  0  0  0  0  0  0 38  0  0  0  0  0  0  0  0  0  0  0  0  0  0  0  0]\n",
      " [ 0  0  0  0  0  0  0  0 40  0  0  0  0  0  0  0  0  0  0  0  0  0  0  0]\n",
      " [ 0  0  0  0  0  0  0  0  0 32  0  0  0  0  0  0  0  0  0  0  0  0  0  0]\n",
      " [ 0  0  0  0  0  0  0  0  0  0 34  0  0  0  0  0  0  0  0  0  0  0  0  0]\n",
      " [ 0  0  0  0  0  0  0  0  0  0  0 34  0  0  0  0  0  0  0  0  0  0  0  0]\n",
      " [ 0  0  0  0  0  0  0  0  0  0  0  0 32  0  0  0  0  0  0  0  0  0  0  0]\n",
      " [ 0  0  0  0  0  0  0  0  0  0  0  0  0 31  0  0  0  0  0  0  0  0  0  0]\n",
      " [ 0  0  2  0  0  0  0  0  0  0  0  0  0  0 24  0  0  0  0  0  0  0  0  0]\n",
      " [ 0  0  0  0  0  0  0  0  0  0  0  0  0  0  0 40  0  0  0  0  0  0  1  0]\n",
      " [ 0  0  0  0  0  0  0  0  0  0  0  0  0  0  0  0 38  0  0  0  0  0  0  0]\n",
      " [ 0  0  0  0  0  0  0  0  0  0  0  0  0  0  0  0  0 57  0  0  0  0  0  0]\n",
      " [ 0  0  0  0  0  0  0  0  0  0  0  0  0  0  0  0  0  0 39  0  0  0  0  0]\n",
      " [ 0  0  0  0  0  0  0  0  0  0  0  0  0  0  0  0  0  0  0 34  0  0  0  0]\n",
      " [ 0  0  0  0  0  0  0  0  0  1  0  0  0  0  0  0  0  0  0  0 35  0  0  0]\n",
      " [ 0  0  0  0  0  0  0  0  0  0  0  0  0  0  0  0  0  0  0  0  0 34  0  0]\n",
      " [ 0  0  0  0  0  0  0  0  0  0  0  0  0  0  0  0  0  0  0  0  0  0 32  0]\n",
      " [ 0  0  0  0  0  0  0  0  0  1  0  0  0  0  0  0  0  0  0  0  0  0  0 35]]\n"
     ]
    }
   ],
   "source": [
    "# Make the Confusion Matrix\n",
    "from sklearn.metrics import confusion_matrix\n",
    "\n",
    "cm_2 = confusion_matrix(y_test, test_predictions)\n",
    "\n",
    "# Print the Confusion Matrix\n",
    "print(cm_2)"
   ]
  },
  {
   "cell_type": "markdown",
   "metadata": {
    "id": "pcUcQGcLebEI"
   },
   "source": [
    "## **Model Validation**"
   ]
  },
  {
   "cell_type": "code",
   "execution_count": null,
   "metadata": {
    "colab": {
     "base_uri": "https://localhost:8080/"
    },
    "id": "pEvzWa8sSNWK",
    "outputId": "04a208c6-4309-43c0-d15e-a6fe1e38166d"
   },
   "outputs": [
    {
     "name": "stdout",
     "output_type": "stream",
     "text": [
      "The abdominal pain has been coming and going, and it's been really unpleasant. It's been accompanied by constipation and vomiting. I feel really concerned about my health.\n",
      "abdominal pain coming going really unpleasant accompanied constipation vomiting feel really concerned health\n",
      "[[0.        ]\n",
      " [0.30318867]\n",
      " [0.        ]\n",
      " ...\n",
      " [0.        ]\n",
      " [0.        ]\n",
      " [0.        ]]\n",
      "['Typhoid']\n"
     ]
    }
   ],
   "source": [
    "# Validation Test #\n",
    "\n",
    "# text_before = \"The skin around my mouth, nose, and eyes is ruddy and kindled. It is regularly bothersome and awkward. There's a recognizable aggravation in my nails.\"\n",
    "\n",
    "text_before = \"The abdominal pain has been coming and going, and it's been really unpleasant. It's been accompanied by constipation and vomiting. I feel really concerned about my health.\"\n",
    "\n",
    "# Cleaning\n",
    "text_after = preprocess_text(text_before)\n",
    "\n",
    "print(text_before)\n",
    "print(text_after)\n",
    "\n",
    "# Vectorization\n",
    "tfidf_vectorizer\n",
    "\n",
    "text_after = tfidf_vectorizer.transform([text_after]).toarray()\n",
    "\n",
    "print(text_after.reshape(-1,1))\n",
    "\n",
    "# Prediction\n",
    "test_predictions = best_rf_classifier.predict(text_after)\n",
    "\n",
    "print(test_predictions)"
   ]
  },
  {
   "cell_type": "markdown",
   "metadata": {
    "id": "d0k7d7L0s1vq"
   },
   "source": [
    "# **Support Vector Machine (SVM)**\n",
    "\n",
    "Its primary purpose is to find a hyperplane that best separates data points into different classes."
   ]
  },
  {
   "cell_type": "markdown",
   "metadata": {
    "id": "Bom9hKvdjUJZ"
   },
   "source": [
    "## **Applying Grid Search to find the best model version and the best hyperparameters**"
   ]
  },
  {
   "cell_type": "code",
   "execution_count": 3,
   "metadata": {
    "id": "fLnb_he6ULhV",
    "outputId": "c4a921d8-3f09-4c0e-cbb0-4a2d594a894c"
   },
   "outputs": [
    {
     "ename": "NameError",
     "evalue": "name 'X_train' is not defined",
     "output_type": "error",
     "traceback": [
      "\u001b[1;31m---------------------------------------------------------------------------\u001b[0m",
      "\u001b[1;31mNameError\u001b[0m                                 Traceback (most recent call last)",
      "Cell \u001b[1;32mIn[3], line 19\u001b[0m\n\u001b[0;32m     12\u001b[0m grid_search \u001b[38;5;241m=\u001b[39m GridSearchCV(estimator \u001b[38;5;241m=\u001b[39m svm_classifier,\n\u001b[0;32m     13\u001b[0m                            param_grid \u001b[38;5;241m=\u001b[39m parameters,\n\u001b[0;32m     14\u001b[0m                            cv \u001b[38;5;241m=\u001b[39m \u001b[38;5;241m5\u001b[39m,\n\u001b[0;32m     15\u001b[0m                            scoring \u001b[38;5;241m=\u001b[39m \u001b[38;5;124m'\u001b[39m\u001b[38;5;124maccuracy\u001b[39m\u001b[38;5;124m'\u001b[39m,\n\u001b[0;32m     16\u001b[0m                            n_jobs \u001b[38;5;241m=\u001b[39m \u001b[38;5;241m-\u001b[39m\u001b[38;5;241m1\u001b[39m)\n\u001b[0;32m     18\u001b[0m \u001b[38;5;66;03m# Fit the Grid Search to the train data\u001b[39;00m\n\u001b[1;32m---> 19\u001b[0m grid_search\u001b[38;5;241m.\u001b[39mfit(\u001b[43mX_train\u001b[49m, y_train)\n\u001b[0;32m     21\u001b[0m \u001b[38;5;66;03m# Get the best hyperparameters found\u001b[39;00m\n\u001b[0;32m     22\u001b[0m best_hyperparameters \u001b[38;5;241m=\u001b[39m grid_search\u001b[38;5;241m.\u001b[39mbest_params_\n",
      "\u001b[1;31mNameError\u001b[0m: name 'X_train' is not defined"
     ]
    }
   ],
   "source": [
    "from sklearn.svm import SVC\n",
    "from sklearn.model_selection import GridSearchCV\n",
    "\n",
    "# Create a Support Vector Machine Classifier object\n",
    "svm_classifier = SVC(random_state = 42)\n",
    "\n",
    "# Define the hyperparameters and their possible values to search\n",
    "parameters = [{'C': [0.25, 0.5, 0.75, 1], 'kernel': ['linear']},\n",
    "              {'C': [0.25, 0.5, 0.75, 1],'kernel': ['rbf'], 'gamma': ['scale', 'auto', 0.1, 0.2, 0.3, 0.4, 0.5, 0.6, 0.7, 0.8, 0.9, 1]}]\n",
    "\n",
    "# Create the Grid Search object\n",
    "grid_search = GridSearchCV(estimator = svm_classifier,\n",
    "                           param_grid = parameters,\n",
    "                           cv = 5,\n",
    "                           scoring = 'accuracy',\n",
    "                           n_jobs = -1)\n",
    "\n",
    "# Fit the Grid Search to the train data\n",
    "grid_search.fit(X_train, y_train)\n",
    "\n",
    "# Get the best hyperparameters found\n",
    "best_hyperparameters = grid_search.best_params_\n",
    "print(\"Best Hyperparameters:\", best_hyperparameters)\n",
    "\n",
    "# Get the best model version\n",
    "best_svm_classifier = grid_search.best_estimator_\n",
    "print(best_svm_classifier)\n",
    "\n",
    "# Print the best accuracy found\n",
    "best_accuracy = grid_search.best_score_\n",
    "print(f'Best Accuracy: {best_accuracy*100:.2f} %')\n"
   ]
  },
  {
   "cell_type": "code",
   "execution_count": 4,
   "metadata": {},
   "outputs": [
    {
     "ename": "NameError",
     "evalue": "name 'best_svm_classifier' is not defined",
     "output_type": "error",
     "traceback": [
      "\u001b[1;31m---------------------------------------------------------------------------\u001b[0m",
      "\u001b[1;31mNameError\u001b[0m                                 Traceback (most recent call last)",
      "Cell \u001b[1;32mIn[4], line 3\u001b[0m\n\u001b[0;32m      1\u001b[0m \u001b[38;5;66;03m# Download pretrained Model\u001b[39;00m\n\u001b[0;32m      2\u001b[0m \u001b[38;5;28;01mimport\u001b[39;00m \u001b[38;5;21;01mjoblib\u001b[39;00m\n\u001b[1;32m----> 3\u001b[0m joblib\u001b[38;5;241m.\u001b[39mdump(\u001b[43mbest_svm_classifier\u001b[49m, \u001b[38;5;124m\"\u001b[39m\u001b[38;5;124mmodel_SVM.pkl\u001b[39m\u001b[38;5;124m\"\u001b[39m)\n",
      "\u001b[1;31mNameError\u001b[0m: name 'best_svm_classifier' is not defined"
     ]
    }
   ],
   "source": [
    "# Download pretrained Model\n",
    "import joblib\n",
    "joblib.dump(best_svm_classifier, \"model_SVM.pkl\")"
   ]
  },
  {
   "cell_type": "code",
   "execution_count": 6,
   "metadata": {},
   "outputs": [
    {
     "data": {
      "text/html": [
       "<style>#sk-container-id-2 {color: black;}#sk-container-id-2 pre{padding: 0;}#sk-container-id-2 div.sk-toggleable {background-color: white;}#sk-container-id-2 label.sk-toggleable__label {cursor: pointer;display: block;width: 100%;margin-bottom: 0;padding: 0.3em;box-sizing: border-box;text-align: center;}#sk-container-id-2 label.sk-toggleable__label-arrow:before {content: \"▸\";float: left;margin-right: 0.25em;color: #696969;}#sk-container-id-2 label.sk-toggleable__label-arrow:hover:before {color: black;}#sk-container-id-2 div.sk-estimator:hover label.sk-toggleable__label-arrow:before {color: black;}#sk-container-id-2 div.sk-toggleable__content {max-height: 0;max-width: 0;overflow: hidden;text-align: left;background-color: #f0f8ff;}#sk-container-id-2 div.sk-toggleable__content pre {margin: 0.2em;color: black;border-radius: 0.25em;background-color: #f0f8ff;}#sk-container-id-2 input.sk-toggleable__control:checked~div.sk-toggleable__content {max-height: 200px;max-width: 100%;overflow: auto;}#sk-container-id-2 input.sk-toggleable__control:checked~label.sk-toggleable__label-arrow:before {content: \"▾\";}#sk-container-id-2 div.sk-estimator input.sk-toggleable__control:checked~label.sk-toggleable__label {background-color: #d4ebff;}#sk-container-id-2 div.sk-label input.sk-toggleable__control:checked~label.sk-toggleable__label {background-color: #d4ebff;}#sk-container-id-2 input.sk-hidden--visually {border: 0;clip: rect(1px 1px 1px 1px);clip: rect(1px, 1px, 1px, 1px);height: 1px;margin: -1px;overflow: hidden;padding: 0;position: absolute;width: 1px;}#sk-container-id-2 div.sk-estimator {font-family: monospace;background-color: #f0f8ff;border: 1px dotted black;border-radius: 0.25em;box-sizing: border-box;margin-bottom: 0.5em;}#sk-container-id-2 div.sk-estimator:hover {background-color: #d4ebff;}#sk-container-id-2 div.sk-parallel-item::after {content: \"\";width: 100%;border-bottom: 1px solid gray;flex-grow: 1;}#sk-container-id-2 div.sk-label:hover label.sk-toggleable__label {background-color: #d4ebff;}#sk-container-id-2 div.sk-serial::before {content: \"\";position: absolute;border-left: 1px solid gray;box-sizing: border-box;top: 0;bottom: 0;left: 50%;z-index: 0;}#sk-container-id-2 div.sk-serial {display: flex;flex-direction: column;align-items: center;background-color: white;padding-right: 0.2em;padding-left: 0.2em;position: relative;}#sk-container-id-2 div.sk-item {position: relative;z-index: 1;}#sk-container-id-2 div.sk-parallel {display: flex;align-items: stretch;justify-content: center;background-color: white;position: relative;}#sk-container-id-2 div.sk-item::before, #sk-container-id-2 div.sk-parallel-item::before {content: \"\";position: absolute;border-left: 1px solid gray;box-sizing: border-box;top: 0;bottom: 0;left: 50%;z-index: -1;}#sk-container-id-2 div.sk-parallel-item {display: flex;flex-direction: column;z-index: 1;position: relative;background-color: white;}#sk-container-id-2 div.sk-parallel-item:first-child::after {align-self: flex-end;width: 50%;}#sk-container-id-2 div.sk-parallel-item:last-child::after {align-self: flex-start;width: 50%;}#sk-container-id-2 div.sk-parallel-item:only-child::after {width: 0;}#sk-container-id-2 div.sk-dashed-wrapped {border: 1px dashed gray;margin: 0 0.4em 0.5em 0.4em;box-sizing: border-box;padding-bottom: 0.4em;background-color: white;}#sk-container-id-2 div.sk-label label {font-family: monospace;font-weight: bold;display: inline-block;line-height: 1.2em;}#sk-container-id-2 div.sk-label-container {text-align: center;}#sk-container-id-2 div.sk-container {/* jupyter's `normalize.less` sets `[hidden] { display: none; }` but bootstrap.min.css set `[hidden] { display: none !important; }` so we also need the `!important` here to be able to override the default hidden behavior on the sphinx rendered scikit-learn.org. See: https://github.com/scikit-learn/scikit-learn/issues/21755 */display: inline-block !important;position: relative;}#sk-container-id-2 div.sk-text-repr-fallback {display: none;}</style><div id=\"sk-container-id-2\" class=\"sk-top-container\"><div class=\"sk-text-repr-fallback\"><pre>SVC(C=1, kernel=&#x27;linear&#x27;, random_state=42)</pre><b>In a Jupyter environment, please rerun this cell to show the HTML representation or trust the notebook. <br />On GitHub, the HTML representation is unable to render, please try loading this page with nbviewer.org.</b></div><div class=\"sk-container\" hidden><div class=\"sk-item\"><div class=\"sk-estimator sk-toggleable\"><input class=\"sk-toggleable__control sk-hidden--visually\" id=\"sk-estimator-id-2\" type=\"checkbox\" checked><label for=\"sk-estimator-id-2\" class=\"sk-toggleable__label sk-toggleable__label-arrow\">SVC</label><div class=\"sk-toggleable__content\"><pre>SVC(C=1, kernel=&#x27;linear&#x27;, random_state=42)</pre></div></div></div></div></div>"
      ],
      "text/plain": [
       "SVC(C=1, kernel='linear', random_state=42)"
      ]
     },
     "execution_count": 6,
     "metadata": {},
     "output_type": "execute_result"
    }
   ],
   "source": [
    "# Load pretrained Model\n",
    "loaded_model = joblib.load(\"model_SVM.pkl\")\n",
    "loaded_model"
   ]
  },
  {
   "cell_type": "markdown",
   "metadata": {
    "id": "0dATDK4LjSZJ"
   },
   "source": [
    "## **Model Evaluation**"
   ]
  },
  {
   "cell_type": "code",
   "execution_count": 27,
   "metadata": {
    "colab": {
     "base_uri": "https://localhost:8080/"
    },
    "id": "3DKozBXcmzr2",
    "outputId": "61bacafe-0e75-4005-a0cf-a0d042497cac"
   },
   "outputs": [
    {
     "name": "stdout",
     "output_type": "stream",
     "text": [
      "Training Score: 100.00 %\n",
      "Testing Score: 99.43 %\n"
     ]
    }
   ],
   "source": [
    "# Calculate and Compare the Score of train data and test data\n",
    "\n",
    "train_score = best_svm_classifier.score(X_train, y_train)\n",
    "test_score = best_svm_classifier.score(X_test, y_test)\n",
    "\n",
    "# Print the scores\n",
    "print(f'Training Score: {train_score*100:.2f} %')\n",
    "print(f'Testing Score: {test_score*100:.2f} %')\n"
   ]
  },
  {
   "cell_type": "code",
   "execution_count": 28,
   "metadata": {
    "id": "3vcy7L-I0xVf"
   },
   "outputs": [],
   "source": [
    "# Make Predictions on the train data and test data\n",
    "\n",
    "train_predictions = best_svm_classifier.predict(X_train)\n",
    "test_predictions = best_svm_classifier.predict(X_test)"
   ]
  },
  {
   "cell_type": "code",
   "execution_count": 29,
   "metadata": {
    "colab": {
     "base_uri": "https://localhost:8080/"
    },
    "id": "KffsYxTLDFMy",
    "outputId": "68879728-915a-4027-f251-fd7d52877730"
   },
   "outputs": [
    {
     "name": "stdout",
     "output_type": "stream",
     "text": [
      "Training Accuracy: 100.00 %\n",
      "Testing Accuracy: 99.43 %\n"
     ]
    }
   ],
   "source": [
    "# Calculate and Compare the Accuracy for training and testing data\n",
    "from sklearn.metrics import accuracy_score\n",
    "\n",
    "train_accuracy = accuracy_score(y_train, train_predictions)\n",
    "test_accuracy = accuracy_score(y_test, test_predictions)\n",
    "\n",
    "# Print the accuracies\n",
    "print(f'Training Accuracy: {train_accuracy*100:.2f} %')\n",
    "print(f'Testing Accuracy: {test_accuracy*100:.2f} %')\n"
   ]
  },
  {
   "cell_type": "code",
   "execution_count": 30,
   "metadata": {
    "colab": {
     "base_uri": "https://localhost:8080/"
    },
    "id": "djPXfWkj01kW",
    "outputId": "113619c9-f831-4824-d320-04adf65c117f"
   },
   "outputs": [
    {
     "name": "stdout",
     "output_type": "stream",
     "text": [
      "[[36  0  0  0  0  0  0  0  0  0  0  0  0  0  0  0  0  0  0  0  0  0  0  0]\n",
      " [ 0 39  0  0  0  0  0  0  0  0  0  0  0  0  0  0  0  0  0  0  0  0  0  0]\n",
      " [ 0  0 31  0  0  0  0  0  0  0  0  0  0  0  0  0  0  0  0  0  0  0  0  0]\n",
      " [ 0  0  0 36  0  0  0  0  0  0  0  0  0  0  0  0  0  0  0  0  0  0  0  0]\n",
      " [ 0  0  0  0 38  0  1  0  0  0  0  0  0  0  0  1  1  0  0  0  0  0  0  0]\n",
      " [ 0  0  0  0  0 38  0  0  0  0  0  0  0  0  0  0  0  0  0  0  0  0  0  0]\n",
      " [ 0  0  0  0  1  0 42  0  0  0  0  0  0  0  0  0  0  0  0  0  0  0  0  0]\n",
      " [ 0  0  0  0  0  0  0 38  0  0  0  0  0  0  0  0  0  0  0  0  0  0  0  0]\n",
      " [ 0  0  0  0  0  0  0  0 40  0  0  0  0  0  0  0  0  0  0  0  0  0  0  0]\n",
      " [ 0  0  0  0  0  0  0  0  0 32  0  0  0  0  0  0  0  0  0  0  0  0  0  0]\n",
      " [ 0  0  0  0  0  0  0  0  0  0 34  0  0  0  0  0  0  0  0  0  0  0  0  0]\n",
      " [ 0  0  0  0  0  0  0  0  0  0  0 34  0  0  0  0  0  0  0  0  0  0  0  0]\n",
      " [ 0  0  0  0  0  0  0  0  0  0  0  0 32  0  0  0  0  0  0  0  0  0  0  0]\n",
      " [ 0  0  0  0  0  0  0  0  0  0  0  0  0 31  0  0  0  0  0  0  0  0  0  0]\n",
      " [ 0  0  0  0  0  0  0  0  0  0  0  0  0  0 26  0  0  0  0  0  0  0  0  0]\n",
      " [ 0  0  0  0  0  0  1  0  0  0  0  0  0  0  0 40  0  0  0  0  0  0  0  0]\n",
      " [ 0  0  0  0  0  0  0  0  0  0  0  0  0  0  0  0 38  0  0  0  0  0  0  0]\n",
      " [ 0  0  0  0  0  0  0  0  0  0  0  0  0  0  0  0  0 57  0  0  0  0  0  0]\n",
      " [ 0  0  0  0  0  0  0  0  0  0  0  0  0  0  0  0  0  0 39  0  0  0  0  0]\n",
      " [ 0  0  0  0  0  0  0  0  0  0  0  0  0  0  0  0  0  0  0 34  0  0  0  0]\n",
      " [ 0  0  0  0  0  0  0  0  0  0  0  0  0  0  0  0  0  0  0  0 36  0  0  0]\n",
      " [ 0  0  0  0  0  0  0  0  0  0  0  0  0  0  0  0  0  0  0  0  0 34  0  0]\n",
      " [ 0  0  0  0  0  0  0  0  0  0  0  0  0  0  0  0  0  0  0  0  0  0 32  0]\n",
      " [ 0  0  0  0  0  0  0  0  0  0  0  0  0  0  0  0  0  0  0  0  0  0  0 36]]\n"
     ]
    }
   ],
   "source": [
    "# Make the Confusion Matrix\n",
    "from sklearn.metrics import confusion_matrix\n",
    "\n",
    "cm_3 = confusion_matrix(y_test, test_predictions)\n",
    "\n",
    "# Print the Confusion Matrix\n",
    "print(cm_3)"
   ]
  },
  {
   "cell_type": "markdown",
   "metadata": {
    "id": "kiMNY1O9jnO9"
   },
   "source": [
    "## **Model Validation**"
   ]
  },
  {
   "cell_type": "code",
   "execution_count": 7,
   "metadata": {
    "colab": {
     "base_uri": "https://localhost:8080/"
    },
    "id": "eK33JXq5xBJx",
    "outputId": "493a16a4-cd6d-4df5-a748-187821807bad"
   },
   "outputs": [
    {
     "ename": "NameError",
     "evalue": "name 'preprocess_text' is not defined",
     "output_type": "error",
     "traceback": [
      "\u001b[1;31m---------------------------------------------------------------------------\u001b[0m",
      "\u001b[1;31mNameError\u001b[0m                                 Traceback (most recent call last)",
      "Cell \u001b[1;32mIn[7], line 8\u001b[0m\n\u001b[0;32m      5\u001b[0m text_before \u001b[38;5;241m=\u001b[39m \u001b[38;5;124m\"\u001b[39m\u001b[38;5;124mwdwwdsvwsdfjwem;knl,,cod\u001b[39m\u001b[38;5;124m\"\u001b[39m\n\u001b[0;32m      7\u001b[0m \u001b[38;5;66;03m# Cleaning\u001b[39;00m\n\u001b[1;32m----> 8\u001b[0m text_after \u001b[38;5;241m=\u001b[39m \u001b[43mpreprocess_text\u001b[49m(text_before)\n\u001b[0;32m     10\u001b[0m \u001b[38;5;28mprint\u001b[39m(text_before)\n\u001b[0;32m     11\u001b[0m \u001b[38;5;28mprint\u001b[39m(text_after)\n",
      "\u001b[1;31mNameError\u001b[0m: name 'preprocess_text' is not defined"
     ]
    }
   ],
   "source": [
    "# Validation Test #\n",
    "\n",
    "# text_before = \"The skin around my mouth, nose, and eyes is ruddy and kindled. It is regularly bothersome and awkward. There's a recognizable aggravation in my nails.\"\n",
    "\n",
    "text_before = \"wdwwdsvwsdfjwem;knl,,cod\"\n",
    "\n",
    "# Cleaning\n",
    "text_after = preprocess_text(text_before)\n",
    "\n",
    "print(text_before)\n",
    "print(text_after)\n",
    "\n",
    "# Vectorization\n",
    "tfidf_vectorizer\n",
    "\n",
    "text_after = tfidf_vectorizer.transform([text_after]).toarray()\n",
    "\n",
    "print(text_after.reshape(-1,1))\n",
    "\n",
    "# Prediction\n",
    "test_predictions = best_svm_classifier.predict(text_after)\n",
    "\n",
    "print(test_predictions)"
   ]
  },
  {
   "cell_type": "markdown",
   "metadata": {
    "id": "VJczI22hy2Xe"
   },
   "source": [
    "# **KNeighborsClassifier**\n",
    "In the k-NN algorithm, the \"k\" represents the number of nearest neighbors considered for making predictions.\n"
   ]
  },
  {
   "cell_type": "markdown",
   "metadata": {
    "id": "TTsFTFxjgq2r"
   },
   "source": [
    "## **Applying Grid Search to find the best model version and the best hyperparameters**"
   ]
  },
  {
   "cell_type": "code",
   "execution_count": null,
   "metadata": {
    "id": "lesVxLlugrKZ",
    "outputId": "86c57e46-cc92-43be-f83d-6e645261ba5a"
   },
   "outputs": [
    {
     "name": "stdout",
     "output_type": "stream",
     "text": [
      "Best Hyperparameters: {'algorithm': 'auto', 'n_neighbors': 3, 'p': 2, 'weights': 'distance'}\n",
      "KNeighborsClassifier(n_neighbors=3, weights='distance')\n",
      "Best Accuracy: 97.83 %\n"
     ]
    },
    {
     "name": "stderr",
     "output_type": "stream",
     "text": [
      "C:\\Users\\ASD\\anaconda3\\Lib\\site-packages\\sklearn\\model_selection\\_search.py:976: UserWarning: One or more of the test scores are non-finite: [       nan 0.96846843 0.97074404 0.9783414         nan 0.97188616\n",
      " 0.96542948 0.9737873         nan 0.96884578 0.96124554 0.96960479\n",
      "        nan 0.96960623 0.95630833 0.96542228 0.96010917 0.96846843\n",
      " 0.97074404 0.9783414  0.96922745 0.97188616 0.96542948 0.9737873\n",
      " 0.96314668 0.96884578 0.96124554 0.96960479 0.96086531 0.96960623\n",
      " 0.95630833 0.96542228 0.96010917 0.96846843 0.97074404 0.9783414\n",
      " 0.96922745 0.97188616 0.96542948 0.9737873  0.96314668 0.96884578\n",
      " 0.96124554 0.96960479 0.96086531 0.96960623 0.95630833 0.96542228\n",
      "        nan 0.96846843 0.97074404 0.9783414         nan 0.97188616\n",
      " 0.96542948 0.9737873         nan 0.96884578 0.96124554 0.96960479\n",
      "        nan 0.96960623 0.95630833 0.96542228]\n",
      "  warnings.warn(\n"
     ]
    }
   ],
   "source": [
    "from sklearn.neighbors import KNeighborsClassifier\n",
    "from sklearn.model_selection import GridSearchCV\n",
    "\n",
    "# Create a K-Neighbors Classifier object\n",
    "knn_classifier = KNeighborsClassifier()\n",
    "\n",
    "# Define the hyperparameters and their possible values to search\n",
    "parameters = {\n",
    "    'n_neighbors': [3, 5, 7, 9],\n",
    "    'weights': ['uniform', 'distance'],\n",
    "    'algorithm': ['auto', 'ball_tree', 'kd_tree', 'brute'],\n",
    "    'p': [1, 2]\n",
    "}\n",
    "\n",
    "# Create the Grid Search object\n",
    "grid_search = GridSearchCV(estimator = knn_classifier,\n",
    "                           param_grid = parameters,\n",
    "                           cv = 5,\n",
    "                           scoring = 'accuracy',\n",
    "                           n_jobs = -1)\n",
    "\n",
    "# Fit the Grid Search to the train data\n",
    "grid_search.fit(X_train, y_train)\n",
    "\n",
    "# Get the best hyperparameters found\n",
    "best_hyperparameters = grid_search.best_params_\n",
    "print(\"Best Hyperparameters:\", best_hyperparameters)\n",
    "\n",
    "# Get the best model version\n",
    "best_knn_classifier = grid_search.best_estimator_\n",
    "print(best_knn_classifier)\n",
    "\n",
    "# Print the best accuracy found\n",
    "best_accuracy = grid_search.best_score_\n",
    "print(f'Best Accuracy: {best_accuracy*100:.2f} %')\n"
   ]
  },
  {
   "cell_type": "markdown",
   "metadata": {
    "id": "UESDKq1pg3ZP"
   },
   "source": [
    "## **Model Evaluation**"
   ]
  },
  {
   "cell_type": "code",
   "execution_count": null,
   "metadata": {
    "colab": {
     "base_uri": "https://localhost:8080/"
    },
    "id": "fY9IUHjymw24",
    "outputId": "5868e50d-dab2-4cc2-d896-7d464f8d895b"
   },
   "outputs": [
    {
     "name": "stdout",
     "output_type": "stream",
     "text": [
      "Training Score: 1.00 %\n",
      "Testing Score: 0.98 %\n"
     ]
    }
   ],
   "source": [
    "# Calculate and Compare the Score of train data and test data\n",
    "\n",
    "train_score = best_knn_classifier.score(X_train, y_train)\n",
    "test_score = best_knn_classifier.score(X_test, y_test)\n",
    "\n",
    "# Print the scores\n",
    "print(f'Training Score: {train_score*100:.2f} %')\n",
    "print(f'Testing Score: {test_score*100:.2f} %')\n"
   ]
  },
  {
   "cell_type": "code",
   "execution_count": null,
   "metadata": {
    "id": "vr5vwhESzMig"
   },
   "outputs": [],
   "source": [
    "# Make Predictions on the train data and test data\n",
    "\n",
    "train_predictions = best_knn_classifier.predict(X_train)\n",
    "test_predictions = best_knn_classifier.predict(X_test)"
   ]
  },
  {
   "cell_type": "code",
   "execution_count": null,
   "metadata": {
    "colab": {
     "base_uri": "https://localhost:8080/"
    },
    "id": "Eno8JgLGDAys",
    "outputId": "60e50dcd-92f4-4ef1-80f5-08f029e52425"
   },
   "outputs": [
    {
     "name": "stdout",
     "output_type": "stream",
     "text": [
      "Training Accuracy: 1.00 %\n",
      "Testing Accuracy: 0.98 %\n"
     ]
    }
   ],
   "source": [
    "# Calculate and Compare the Accuracy for training and testing data\n",
    "from sklearn.metrics import accuracy_score\n",
    "\n",
    "train_accuracy = accuracy_score(y_train, train_predictions)\n",
    "test_accuracy = accuracy_score(y_test, test_predictions)\n",
    "\n",
    "# Print the accuracies\n",
    "print(f'Training Accuracy: {train_accuracy*100:.2f} %')\n",
    "print(f'Testing Accuracy: {test_accuracy*100:.2f} %')\n"
   ]
  },
  {
   "cell_type": "code",
   "execution_count": null,
   "metadata": {
    "colab": {
     "base_uri": "https://localhost:8080/"
    },
    "id": "spGeHAiIzT-e",
    "outputId": "bdc5f959-cf15-4b78-f681-1b03abbb5d11"
   },
   "outputs": [
    {
     "name": "stdout",
     "output_type": "stream",
     "text": [
      "[[36  0  0  0  0  0  0  0  0  0  0  0  0  0  0  0  0  0  0  0  0  0  0  0]\n",
      " [ 0 39  0  0  0  0  0  0  0  0  0  0  0  0  0  0  0  0  0  0  0  0  0  0]\n",
      " [ 0  0 31  0  0  0  0  0  0  0  0  0  0  0  0  0  0  0  0  0  0  0  0  0]\n",
      " [ 0  0  0 36  0  0  0  0  0  0  0  0  0  0  0  0  0  0  0  0  0  0  0  0]\n",
      " [ 0  0  0  0 35  0  2  0  1  0  1  0  0  0  0  1  1  0  0  0  0  0  0  0]\n",
      " [ 0  0  1  0  0 37  0  0  0  0  0  0  0  0  0  0  0  0  0  0  0  0  0  0]\n",
      " [ 0  0  0  0  2  0 38  0  0  0  0  0  0  0  0  0  0  3  0  0  0  0  0  0]\n",
      " [ 0  0  0  0  0  0  0 38  0  0  0  0  0  0  0  0  0  0  0  0  0  0  0  0]\n",
      " [ 0  0  0  0  0  0  0  0 40  0  0  0  0  0  0  0  0  0  0  0  0  0  0  0]\n",
      " [ 0  0  0  1  0  0  0  0  0 31  0  0  0  0  0  0  0  0  0  0  0  0  0  0]\n",
      " [ 0  0  0  0  0  0  0  0  0  0 34  0  0  0  0  0  0  0  0  0  0  0  0  0]\n",
      " [ 0  0  0  0  0  0  0  0  0  0  0 34  0  0  0  0  0  0  0  0  0  0  0  0]\n",
      " [ 0  0  0  0  0  0  0  0  0  0  0  0 32  0  0  0  0  0  0  0  0  0  0  0]\n",
      " [ 0  0  0  0  0  0  0  0  0  0  0  0  0 31  0  0  0  0  0  0  0  0  0  0]\n",
      " [ 0  0  0  0  0  0  0  0  0  0  0  0  0  0 26  0  0  0  0  0  0  0  0  0]\n",
      " [ 0  0  0  0  0  0  0  0  0  0  0  0  0  0  0 41  0  0  0  0  0  0  0  0]\n",
      " [ 0  0  0  0  1  0  2  0  0  0  0  0  1  0  0  1 33  0  0  0  0  0  0  0]\n",
      " [ 0  0  0  0  2  0  0  0  0  0  0  0  0  0  0  0  0 55  0  0  0  0  0  0]\n",
      " [ 0  0  0  0  0  0  0  0  0  0  0  0  0  0  0  0  0  0 39  0  0  0  0  0]\n",
      " [ 0  0  0  0  0  0  0  0  0  0  0  0  0  0  0  0  0  0  0 34  0  0  0  0]\n",
      " [ 0  0  0  0  0  0  0  0  0  0  0  0  0  0  0  0  0  0  0  0 36  0  0  0]\n",
      " [ 0  0  0  0  0  0  0  0  0  0  0  0  0  0  0  0  0  0  0  0  0 34  0  0]\n",
      " [ 0  0  0  0  0  0  0  0  0  0  0  0  0  0  0  0  0  0  0  0  0  0 32  0]\n",
      " [ 0  0  0  0  0  0  0  0  0  0  0  0  0  0  0  0  0  0  0  0  0  0  0 36]]\n"
     ]
    }
   ],
   "source": [
    "# Make the Confusion Matrix\n",
    "from sklearn.metrics import confusion_matrix\n",
    "\n",
    "cm_5 = confusion_matrix(y_test, test_predictions)\n",
    "\n",
    "# Print the Confusion Matrix\n",
    "print(cm_5)"
   ]
  },
  {
   "cell_type": "markdown",
   "metadata": {
    "id": "ihk2teuNi-_V"
   },
   "source": [
    "## **Model Validation**"
   ]
  },
  {
   "cell_type": "code",
   "execution_count": null,
   "metadata": {
    "colab": {
     "base_uri": "https://localhost:8080/"
    },
    "id": "DeqIpKBrxJKi",
    "outputId": "77837996-3cb3-47f7-a452-fb7647e9099f"
   },
   "outputs": [
    {
     "name": "stdout",
     "output_type": "stream",
     "text": [
      "The abdominal pain has been coming and going, and it's been really unpleasant. It's been accompanied by constipation and vomiting. I feel really concerned about my health.\n",
      "abdominal pain coming going really unpleasant accompanied constipation vomiting feel really concerned health\n",
      "[[0.        ]\n",
      " [0.30318867]\n",
      " [0.        ]\n",
      " ...\n",
      " [0.        ]\n",
      " [0.        ]\n",
      " [0.        ]]\n",
      "['Typhoid']\n"
     ]
    }
   ],
   "source": [
    "# Validation Test #\n",
    "\n",
    "# text_before = \"The skin around my mouth, nose, and eyes is ruddy and kindled. It is regularly bothersome and awkward. There's a recognizable aggravation in my nails.\"\n",
    "\n",
    "text_before = \"The abdominal pain has been coming and going, and it's been really unpleasant. It's been accompanied by constipation and vomiting. I feel really concerned about my health.\"\n",
    "\n",
    "# Cleaning\n",
    "text_after = preprocess_text(text_before)\n",
    "\n",
    "print(text_before)\n",
    "print(text_after)\n",
    "\n",
    "# Vectorization\n",
    "tfidf_vectorizer\n",
    "\n",
    "text_after = tfidf_vectorizer.transform([text_after]).toarray()\n",
    "\n",
    "print(text_after.reshape(-1,1))\n",
    "\n",
    "# Prediction\n",
    "test_predictions = best_knn_classifier.predict(text_after)\n",
    "\n",
    "print(test_predictions)"
   ]
  },
  {
   "cell_type": "code",
   "execution_count": null,
   "metadata": {
    "id": "8H7OyfPw7Kn6"
   },
   "outputs": [],
   "source": []
  }
 ],
 "metadata": {
  "accelerator": "GPU",
  "colab": {
   "gpuType": "T4",
   "provenance": [],
   "toc_visible": true
  },
  "kernelspec": {
   "display_name": "Python 3 (ipykernel)",
   "language": "python",
   "name": "python3"
  },
  "language_info": {
   "codemirror_mode": {
    "name": "ipython",
    "version": 3
   },
   "file_extension": ".py",
   "mimetype": "text/x-python",
   "name": "python",
   "nbconvert_exporter": "python",
   "pygments_lexer": "ipython3",
   "version": "3.12.0"
  }
 },
 "nbformat": 4,
 "nbformat_minor": 1
}
